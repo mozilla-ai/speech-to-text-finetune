{
 "cells": [
  {
   "cell_type": "code",
   "execution_count": null,
   "id": "e5efc6e4cb19631b",
   "metadata": {},
   "outputs": [],
   "source": [
    "from finetune_whisper import run_finetuning"
   ]
  },
  {
   "cell_type": "code",
   "execution_count": null,
   "id": "8a0cdca91095774",
   "metadata": {},
   "outputs": [],
   "source": [
    "import torch\n",
    "\n",
    "if not torch.cuda.is_available():\n",
    "    raise RuntimeError(\"GPU not available\")\n",
    "else:\n",
    "    print(\"GPU is available!\")"
   ]
  },
  {
   "cell_type": "code",
   "execution_count": null,
   "id": "5ee21c1f-e255-4442-aaad-1be9b2e45e59",
   "metadata": {},
   "outputs": [],
   "source": [
    "model_id = \"openai/whisper-tiny\"\n",
    "dataset_id = \"mozilla-foundation/common_voice_17_0\"\n",
    "language = \"Greek\"\n",
    "\n",
    "repo_name = \"colab-test\""
   ]
  },
  {
   "cell_type": "code",
   "execution_count": null,
   "id": "3e885747a52fc2b3",
   "metadata": {},
   "outputs": [],
   "source": [
    "run_finetuning(\n",
    "    model_id=model_id, dataset_id=dataset_id, language=language, repo_name=repo_name\n",
    ")"
   ]
  }
 ],
 "metadata": {
  "kernelspec": {
   "display_name": "Python 3 (ipykernel)",
   "language": "python",
   "name": "python3"
  },
  "language_info": {
   "codemirror_mode": {
    "name": "ipython",
    "version": 3
   },
   "file_extension": ".py",
   "mimetype": "text/x-python",
   "name": "python",
   "nbconvert_exporter": "python",
   "pygments_lexer": "ipython3",
   "version": "3.12.3"
  }
 },
 "nbformat": 4,
 "nbformat_minor": 5
}
