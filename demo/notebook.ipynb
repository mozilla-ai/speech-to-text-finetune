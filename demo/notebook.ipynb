{
 "cells": [
  {
   "cell_type": "markdown",
   "id": "a98c421a-2eb2-4c3f-ae33-c032e45a4ce2",
   "metadata": {},
   "source": [
    "## Finetune your own Speech-to-Text Whisper model on the language of your choice on a GPU, for free!"
   ]
  },
  {
   "cell_type": "markdown",
   "id": "81952bf78f81e416",
   "metadata": {
    "jp-MarkdownHeadingCollapsed": true
   },
   "source": [
    "### Setup GPU\n",
    "First, you'll need to enable GPUs for the notebook: Navigate to Edit→Notebook Settings Select T4 GPU from the Hardware Accelerator section Click Save and accept. Next, we'll confirm that we can connect to the GPU:"
   ]
  },
  {
   "cell_type": "code",
   "execution_count": null,
   "id": "5530e1c6-81cf-423f-8a6b-1d3842f4c3e1",
   "metadata": {
    "ExecuteTime": {
     "end_time": "2025-01-21T11:16:47.627953Z",
     "start_time": "2025-01-21T11:16:44.499987Z"
    }
   },
   "outputs": [],
   "source": [
    "import torch\n",
    "\n",
    "if not torch.cuda.is_available():\n",
    "    print(\"GPU NOT available!\")\n",
    "else:\n",
    "    print(\"GPU is available!\")"
   ]
  },
  {
   "cell_type": "markdown",
   "id": "a9fc19c7-2ef4-4e1f-b8d2-acbdafe9fa29",
   "metadata": {},
   "source": [
    "### Setup and login Hugging Face \n",
    "\n",
    "The dataset we use for finetuning is Mozilla's [Common Voice](https://commonvoice.mozilla.org/).\n",
    "\n",
    "In order to download the Common Voice dataset, track training and evaluation metrics of the finetuning and save your final model to use it and share it with others later, we will be using the Hugging Face (HF) platform. Before starting, make sure you:\n",
    "1. have a HF [account](https://huggingface.co/join)\n",
    "2. set up [personal access token](huggingface.co/settings/tokens)\n",
    "3. login to hugging face in this notebook by running the command below and using your token\n"
   ]
  },
  {
   "cell_type": "code",
   "execution_count": null,
   "id": "f3d1180a1814af08",
   "metadata": {
    "ExecuteTime": {
     "end_time": "2025-01-21T11:16:44.448831Z",
     "start_time": "2025-01-21T11:16:40.189007Z"
    }
   },
   "outputs": [],
   "source": [
    "!huggingface-cli login"
   ]
  },
  {
   "cell_type": "markdown",
   "id": "9e46fb64-1b6c-4852-97cd-5134d1ebf3b3",
   "metadata": {
    "jp-MarkdownHeadingCollapsed": true
   },
   "source": [
    "### Download and install speech-to-text-finetune package"
   ]
  },
  {
   "cell_type": "code",
   "execution_count": null,
   "id": "e5efc6e4cb19631b",
   "metadata": {
    "ExecuteTime": {
     "end_time": "2025-01-21T11:16:49.327547Z",
     "start_time": "2025-01-21T11:16:47.813221Z"
    }
   },
   "outputs": [],
   "source": [
    "!git clone https://github.com/mozilla-ai/speech-to-text-finetune.git\n",
    "%cd speech-to-text-finetune/"
   ]
  },
  {
   "cell_type": "code",
   "execution_count": null,
   "id": "6f63e473-4309-44c6-9fb4-0c823ce7ee1e",
   "metadata": {
    "ExecuteTime": {
     "start_time": "2025-01-21T11:16:49.343834Z"
    },
    "jupyter": {
     "is_executing": true
    }
   },
   "outputs": [],
   "source": [
    "!pip install --quiet -e ."
   ]
  },
  {
   "cell_type": "code",
   "execution_count": null,
   "id": "da07095b78eba3c0",
   "metadata": {},
   "outputs": [],
   "source": [
    "from speech_to_text_finetune.finetune_whisper import run_finetuning"
   ]
  },
  {
   "cell_type": "markdown",
   "id": "40a4d5e7-7b0d-4d8d-834a-b10908e1ce40",
   "metadata": {
    "jp-MarkdownHeadingCollapsed": true
   },
   "source": [
    "### Configure finetuning parameters"
   ]
  },
  {
   "cell_type": "code",
   "execution_count": null,
   "id": "5ee21c1f-e255-4442-aaad-1be9b2e45e59",
   "metadata": {},
   "outputs": [],
   "source": [
    "# @title Finetuning configuration and hyperparameter setting\n",
    "\n",
    "model_id = \"openai/whisper-tiny\"  # @ [\"openai/whisper-tiny\", \"openai/whisper-small\", \"openai/whisper-medium\"]\n",
    "dataset_id = \"mozilla-foundation/common_voice_17_0\"\n",
    "language = \"Greek\"\n",
    "\n",
    "repo_name = \"colab-test\"\n",
    "make_repo_private = True\n",
    "test_max_steps = 10"
   ]
  },
  {
   "cell_type": "markdown",
   "id": "87cbdd59-4d67-45c9-9f59-d8d7100dd066",
   "metadata": {
    "jp-MarkdownHeadingCollapsed": true
   },
   "source": [
    "### Start finetuning job\n",
    "\n",
    "Note that this might take a while, anything from 10min to 10hours depending on your model choice and hyper-parameter configuration"
   ]
  },
  {
   "cell_type": "code",
   "execution_count": null,
   "id": "73ef3bd5de291da3",
   "metadata": {},
   "outputs": [],
   "source": "run_finetuning(config_path=\"example_data/config.yaml\")"
  }
 ],
 "metadata": {
  "kernelspec": {
   "display_name": "Python 3 (ipykernel)",
   "language": "python",
   "name": "python3"
  },
  "language_info": {
   "codemirror_mode": {
    "name": "ipython",
    "version": 3
   },
   "file_extension": ".py",
   "mimetype": "text/x-python",
   "name": "python",
   "nbconvert_exporter": "python",
   "pygments_lexer": "ipython3",
   "version": "3.12.3"
  }
 },
 "nbformat": 4,
 "nbformat_minor": 5
}
