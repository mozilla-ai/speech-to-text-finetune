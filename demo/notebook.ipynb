{
 "cells": [
  {
   "cell_type": "code",
   "execution_count": null,
   "id": "e5efc6e4cb19631b",
   "metadata": {},
   "outputs": [],
   "source": [
    "!git clone https://github.com/mozilla-ai/speech-to-text-finetune.git\n",
    "%cd speech-to-text-finetune/"
   ]
  },
  {
   "cell_type": "code",
   "execution_count": null,
   "id": "6f63e473-4309-44c6-9fb4-0c823ce7ee1e",
   "metadata": {},
   "outputs": [],
   "source": [
    "!pip install --quiet -e ."
   ]
  },
  {
   "cell_type": "code",
   "execution_count": null,
   "id": "541128e2d15aa819",
   "metadata": {},
   "outputs": [],
   "source": [
    "!huggingface-cli login"
   ]
  },
  {
   "cell_type": "code",
   "execution_count": null,
   "id": "5530e1c6-81cf-423f-8a6b-1d3842f4c3e1",
   "metadata": {},
   "outputs": [],
   "source": [
    "import torch\n",
    "\n",
    "if not torch.cuda.is_available():\n",
    "    print(\"GPU NOT available!\")\n",
    "else:\n",
    "    print(\"GPU is available!\")"
   ]
  },
  {
   "cell_type": "code",
   "execution_count": null,
   "id": "fcebc6a2-b74c-47b4-bd94-b945bef9177f",
   "metadata": {},
   "outputs": [],
   "source": [
    "from src.speech_to_text_finetune.finetune_whisper import run_finetuning"
   ]
  },
  {
   "cell_type": "code",
   "execution_count": null,
   "id": "5ee21c1f-e255-4442-aaad-1be9b2e45e59",
   "metadata": {},
   "outputs": [],
   "source": [
    "model_id = \"openai/whisper-tiny\"\n",
    "dataset_id = \"mozilla-foundation/common_voice_17_0\"\n",
    "language = \"Greek\"\n",
    "\n",
    "repo_name = \"colab-test\"\n",
    "make_repo_private = True\n",
    "test_max_steps = 10"
   ]
  },
  {
   "cell_type": "code",
   "execution_count": null,
   "id": "3e885747a52fc2b3",
   "metadata": {},
   "outputs": [],
   "source": [
    "run_finetuning(\n",
    "    model_id=model_id,\n",
    "    dataset_id=dataset_id,\n",
    "    language=language,\n",
    "    repo_name=repo_name,\n",
    "    max_steps=test_max_steps,\n",
    "    private_hf_repo=make_repo_private,\n",
    ")"
   ]
  }
 ],
 "metadata": {
  "kernelspec": {
   "display_name": "Python 3 (ipykernel)",
   "language": "python",
   "name": "python3"
  },
  "language_info": {
   "codemirror_mode": {
    "name": "ipython",
    "version": 3
   },
   "file_extension": ".py",
   "mimetype": "text/x-python",
   "name": "python",
   "nbconvert_exporter": "python",
   "pygments_lexer": "ipython3",
   "version": "3.12.3"
  }
 },
 "nbformat": 4,
 "nbformat_minor": 5
}
