{
 "cells": [
  {
   "cell_type": "code",
   "id": "e5efc6e4cb19631b",
   "metadata": {},
   "source": [
    "!git clone https://github.com/mozilla-ai/speech-to-text-finetune.git\n",
    "%cd speech-to-text-finetune/"
   ],
   "outputs": [],
   "execution_count": null
  },
  {
   "cell_type": "code",
   "id": "6f63e473-4309-44c6-9fb4-0c823ce7ee1e",
   "metadata": {},
   "source": "!pip install -e .",
   "outputs": [],
   "execution_count": null
  },
  {
   "metadata": {},
   "cell_type": "code",
   "source": "!huggingface-cli login",
   "id": "541128e2d15aa819",
   "outputs": [],
   "execution_count": null
  },
  {
   "cell_type": "code",
   "id": "5530e1c6-81cf-423f-8a6b-1d3842f4c3e1",
   "metadata": {},
   "source": [
    "import torch\n",
    "\n",
    "if not torch.cuda.is_available():\n",
    "    print(\"GPU NOT available!\")\n",
    "else:\n",
    "    print(\"GPU is available!\")"
   ],
   "outputs": [],
   "execution_count": null
  },
  {
   "cell_type": "code",
   "id": "fcebc6a2-b74c-47b4-bd94-b945bef9177f",
   "metadata": {},
   "source": "from src.speech_to_text_finetune.finetune_whisper import run_finetuning",
   "outputs": [],
   "execution_count": null
  },
  {
   "cell_type": "code",
   "id": "8a0cdca91095774",
   "metadata": {},
   "source": [
    "import torch\n",
    "\n",
    "if not torch.cuda.is_available():\n",
    "    raise RuntimeError(\"GPU not available\")\n",
    "else:\n",
    "    print(\"GPU is available!\")"
   ],
   "outputs": [],
   "execution_count": null
  },
  {
   "cell_type": "code",
   "id": "5ee21c1f-e255-4442-aaad-1be9b2e45e59",
   "metadata": {},
   "source": [
    "model_id = \"openai/whisper-tiny\"\n",
    "dataset_id = \"mozilla-foundation/common_voice_17_0\"\n",
    "language = \"Greek\"\n",
    "\n",
    "repo_name = \"colab-test\"\n",
    "make_repo_private = True"
   ],
   "outputs": [],
   "execution_count": null
  },
  {
   "cell_type": "code",
   "id": "3e885747a52fc2b3",
   "metadata": {},
   "source": [
    "run_finetuning(\n",
    "    model_id=model_id, dataset_id=dataset_id, language=language, repo_name=repo_name, private_hf_repo=make_repo_private\n",
    ")"
   ],
   "outputs": [],
   "execution_count": null
  }
 ],
 "metadata": {
  "kernelspec": {
   "display_name": "Python 3 (ipykernel)",
   "language": "python",
   "name": "python3"
  },
  "language_info": {
   "codemirror_mode": {
    "name": "ipython",
    "version": 3
   },
   "file_extension": ".py",
   "mimetype": "text/x-python",
   "name": "python",
   "nbconvert_exporter": "python",
   "pygments_lexer": "ipython3",
   "version": "3.12.3"
  }
 },
 "nbformat": 4,
 "nbformat_minor": 5
}
